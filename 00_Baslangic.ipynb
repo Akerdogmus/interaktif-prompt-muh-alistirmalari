{
 "cells": [
  {
   "cell_type": "markdown",
   "metadata": {},
   "source": [
    "# Başlangıç\n",
    "\n",
    "Bu çalışma **bir API key** gerektirir. API anahtarınız yoksa [Google AI Studio](https://aistudio.google.com/app/apikey) aracılığıyla bir API anahtarı alabilirsiniz."
   ]
  },
  {
   "cell_type": "markdown",
   "metadata": {},
   "source": [
    "## Nasıl Başlayalım?\n",
    "\n",
    "1. Proje için gereklilikleri aşağıdaki komut ile kuralım:\n",
    " "
   ]
  },
  {
   "cell_type": "markdown",
   "metadata": {},
   "source": [
    "1. Opsiyon: Windows için"
   ]
  },
  {
   "cell_type": "code",
   "execution_count": 1,
   "metadata": {},
   "outputs": [
    {
     "name": "stdout",
     "output_type": "stream",
     "text": [
      "Note: you may need to restart the kernel to use updated packages.\n"
     ]
    }
   ],
   "source": [
    "%pip install -q -U google-generativeai"
   ]
  },
  {
   "cell_type": "markdown",
   "metadata": {},
   "source": [
    "2. Opsiyon: Linux için "
   ]
  },
  {
   "cell_type": "code",
   "execution_count": null,
   "metadata": {},
   "outputs": [],
   "source": [
    "!pip install -q -U google-generativeai"
   ]
  },
  {
   "cell_type": "markdown",
   "metadata": {},
   "source": [
    "3. API key ve model adınızı ayarlayın. `\"your_api_key_here\"` yerine Anthropic API keyinizi yazın."
   ]
  },
  {
   "cell_type": "code",
   "execution_count": 4,
   "metadata": {},
   "outputs": [
    {
     "name": "stdout",
     "output_type": "stream",
     "text": [
      "Stored 'API_KEY' (str)\n",
      "Stored 'MODEL_NAME' (str)\n"
     ]
    },
    {
     "name": "stderr",
     "output_type": "stream",
     "text": [
      "C:\\Users\\AKE\\AppData\\Local\\Packages\\PythonSoftwareFoundation.Python.3.10_qbz5n2kfra8p0\\LocalCache\\local-packages\\Python310\\site-packages\\IPython\\extensions\\storemagic.py:229: UserWarning: This is now an optional IPython functionality, setting autorestore/API_KEY requires you to install the `pickleshare` library.\n",
      "  db[ 'autorestore/' + arg ] = obj\n",
      "C:\\Users\\AKE\\AppData\\Local\\Packages\\PythonSoftwareFoundation.Python.3.10_qbz5n2kfra8p0\\LocalCache\\local-packages\\Python310\\site-packages\\IPython\\extensions\\storemagic.py:229: UserWarning: This is now an optional IPython functionality, setting autorestore/MODEL_NAME requires you to install the `pickleshare` library.\n",
      "  db[ 'autorestore/' + arg ] = obj\n"
     ]
    }
   ],
   "source": [
    "API_KEY = \"your-api-key\"\n",
    "MODEL_NAME = \"gemini-1.5-flash\"\n",
    "\n",
    "# API_KEY & MODEL_NAME değişkenlerini IPython deposundaki not defterlerinde kullanmak üzere saklar.\n",
    "%store API_KEY\n",
    "%store MODEL_NAME"
   ]
  },
  {
   "cell_type": "markdown",
   "metadata": {},
   "source": [
    "4. Verilen talimatları izleyerek jupyter notebook hücrelerini sırayla çalıştırın."
   ]
  },
  {
   "cell_type": "markdown",
   "metadata": {},
   "source": [
    "---\n",
    "\n",
    "## Eğitim Kullanım Notları & Öneriler 💡\n",
    "\n",
    "- Bu kurs Gemini Pro'yu temperature 0 değeri ile kullanmaktadır. Kursun ilerleyen bölümlerinde temperature değeri hakkında daha fazla bilgi bulmanız mümkün olacak. Şimdilik bu ayarların daha deterministik sonuçlar verdiğini anlamak yeterlidir. Bu kurstaki tüm hızlı mühendislik teknikleri Gemini 1 gibi önceki nesil eski Gemini modelleri için de geçerlidir.\n",
    "\n",
    "- Hücreyi çalıştırmak ve bir sonrakine geçmek için `Shift + Enter` tuşlarını kullanabilirsiniz.\n",
    "\n",
    "- Bir eğitim sayfasının en altına ulaştığınızda, klasördeki bir sonraki numaralı dosyaya veya o bölüm dosyasındaki içerikle işiniz bittiyse bir sonraki numaralı klasöre gidin."
   ]
  },
  {
   "cell_type": "markdown",
   "metadata": {},
   "source": [
    "## API Key Kurulumu\n",
    "API Key ve tanımladığımız modelin kurulumunu aşağıdaki işlemlerle gerçekleştiririz."
   ]
  },
  {
   "cell_type": "code",
   "execution_count": 2,
   "metadata": {},
   "outputs": [
    {
     "name": "stderr",
     "output_type": "stream",
     "text": [
      "C:\\Users\\AKE\\AppData\\Local\\Packages\\PythonSoftwareFoundation.Python.3.10_qbz5n2kfra8p0\\LocalCache\\local-packages\\Python310\\site-packages\\tqdm\\auto.py:21: TqdmWarning: IProgress not found. Please update jupyter and ipywidgets. See https://ipywidgets.readthedocs.io/en/stable/user_install.html\n",
      "  from .autonotebook import tqdm as notebook_tqdm\n"
     ]
    }
   ],
   "source": [
    "# Import the Python SDK\n",
    "import google.generativeai as genai\n",
    "# Used to securely store your API key\n",
    "\n",
    "genai.configure(api_key=API_KEY)\n",
    "model = genai.GenerativeModel(MODEL_NAME)"
   ]
  },
  {
   "cell_type": "markdown",
   "metadata": {},
   "source": [
    "Şimdi Gemini için örnek bir komut istemi yazacağız ve `get_completion` yardımcı fonksiyonumuzu çalıştırarak Gemini'un çıktısını yazdıracağız. Aşağıdaki hücreyi çalıştırmak Gemini'un yanıtını yazdıracaktır.\n",
    "\n",
    "Gemini'dan farklı yanıtlar almak için istem dizesiyle oynamaktan çekinmeyin."
   ]
  },
  {
   "cell_type": "code",
   "execution_count": 3,
   "metadata": {},
   "outputs": [
    {
     "name": "stdout",
     "output_type": "stream",
     "text": [
      "The backpack wasn't much to look at. Worn leather, frayed straps, and a faded blue that spoke of countless adventures. But it was the only thing Maya had left of her grandmother, who had vanished on a mysterious expedition years ago. \n",
      "\n",
      "Maya, a spirited girl with a thirst for adventure, had always been fascinated by the backpack. It seemed to whisper of hidden worlds and forgotten lore. When she was twelve, she finally decided to unlock its secrets. \n",
      "\n",
      "One day, Maya found an ancient map tucked inside a hidden pocket. It depicted a labyrinthine network of tunnels leading to a hidden valley, rumored to be the source of a mythical river that granted wishes. Armed with the map and the backpack, she set off.\n",
      "\n",
      "The journey was perilous. She navigated treacherous cliffs, fought off menacing creatures, and braved stormy nights with nothing but the stars as her guide.  But the backpack, surprisingly, never let her down. It always seemed to hold exactly what she needed – a sturdy rope to climb a sheer face, a warm blanket to ward off the cold, and even a delicious loaf of bread that appeared out of thin air when she was starving.\n",
      "\n",
      "Finally, after weeks of hardship, Maya reached the hidden valley. It was a breathtaking paradise, a haven of cascading waterfalls, crystal-clear pools, and a vibrant ecosystem unlike anything she had ever seen. But as she delved deeper into the valley, Maya realized she wasn't alone.\n",
      "\n",
      "A group of people, dressed in strange attire, surrounded her. They spoke in a language she didn't understand, but their eyes held a mix of suspicion and curiosity. They were the guardians of the valley, and they had been watching her every move.\n",
      "\n",
      "They tested her with riddles and challenges, but Maya, guided by the backpack, managed to overcome them all. The guardians finally recognized her as a worthy descendant of her grandmother, who had been one of their own.\n",
      "\n",
      "The backpack, they explained, was a magical artifact passed down through generations. It held the power to manifest anything its wearer truly desired, but only if they possessed the courage, the compassion, and the wisdom to use it responsibly.\n",
      "\n",
      "Maya, overwhelmed with gratitude and a renewed sense of purpose, returned home, forever changed by her journey. The backpack became her constant companion, a reminder of her grandmother's legacy and the responsibility that came with possessing such a powerful artifact.\n",
      "\n",
      "She used the backpack to help others, to heal the sick, to bring joy to those in need, and to protect the world from those who would seek to abuse its power. Maya knew that the real magic wasn't in the backpack itself, but in the heart that carried it, and the choices it made. The journey, she realized, was just beginning. \n",
      "\n"
     ]
    }
   ],
   "source": [
    "# Prompt\n",
    "prompt = \"Write a story about a magic backpack.\"\n",
    "\n",
    "# Gemini'den cevap alma\n",
    "response = model.generate_content(prompt)\n",
    "print(response.text)"
   ]
  },
  {
   "cell_type": "markdown",
   "metadata": {},
   "source": [
    "Daha önce tanımlanan `API_KEY` ve `MODEL_NAME` değişkenleri eğitim boyunca kullanılacaktır. Her eğitim sayfası için hücreleri yukarıdan aşağıya doğru çalıştırdığınızdan emin olun."
   ]
  }
 ],
 "metadata": {
  "kernelspec": {
   "display_name": "py310",
   "language": "python",
   "name": "python3"
  },
  "language_info": {
   "codemirror_mode": {
    "name": "ipython",
    "version": 3
   },
   "file_extension": ".py",
   "mimetype": "text/x-python",
   "name": "python",
   "nbconvert_exporter": "python",
   "pygments_lexer": "ipython3",
   "version": "3.10.11"
  }
 },
 "nbformat": 4,
 "nbformat_minor": 2
}
