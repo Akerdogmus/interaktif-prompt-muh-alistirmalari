{
 "cells": [
  {
   "cell_type": "markdown",
   "metadata": {},
   "source": [
    "# Bölüm 2: Net ve Açıklayıcı Olmak\n",
    "\n",
    "- [Ders](#lesson)\n",
    "- [Alıştırmalar](#exercises)\n",
    "- [Oyun Alanı](#example-playground)\n",
    "\n",
    "## Kurulum\n",
    "\n",
    "API anahtarınızı yüklemek ve `get_completion` yardımcı işlevini oluşturmak için aşağıdaki kurulum hücresini çalıştırın."
   ]
  },
  {
   "cell_type": "code",
   "execution_count": 2,
   "metadata": {},
   "outputs": [
    {
     "name": "stdout",
     "output_type": "stream",
     "text": [
      "Note: you may need to restart the kernel to use updated packages.\n"
     ]
    }
   ],
   "source": [
    "# Bu satırı sadece bir kere çalıştırmanız gerekiyor\n",
    "%pip install -q -U google-generativeai "
   ]
  },
  {
   "cell_type": "code",
   "execution_count": 7,
   "metadata": {},
   "outputs": [],
   "source": [
    "# Import python's built-in regular expression library\n",
    "import re\n",
    "import google.generativeai as genai\n",
    "from google.generativeai.types import HarmCategory, HarmBlockThreshold\n",
    "\n",
    "genai.configure(api_key=\"your-api-key\")\n",
    "\n",
    "# Create the model\n",
    "generation_config = {\n",
    "  \"temperature\": 0,\n",
    "  \"top_p\": 1,\n",
    "  \"top_k\": 1,\n",
    "  \"max_output_tokens\": 8192,\n",
    "  \"response_mime_type\": \"text/plain\",\n",
    "}\n",
    "\n",
    "chat = \"Bana bir masal anlatır mısın?\"\n",
    "\n",
    "def get_completion(chat, system_prompt=\"NONE\"):\n",
    "  asistant = genai.GenerativeModel(\n",
    "    model_name=\"gemini-1.5-pro\",\n",
    "    generation_config=generation_config,\n",
    "    safety_settings={\n",
    "          HarmCategory.HARM_CATEGORY_HATE_SPEECH: HarmBlockThreshold.BLOCK_NONE,\n",
    "          HarmCategory.HARM_CATEGORY_HARASSMENT: HarmBlockThreshold.BLOCK_NONE,\n",
    "          HarmCategory.HARM_CATEGORY_SEXUALLY_EXPLICIT: HarmBlockThreshold.BLOCK_NONE,\n",
    "          HarmCategory.HARM_CATEGORY_DANGEROUS_CONTENT: HarmBlockThreshold.BLOCK_NONE\n",
    "    },\n",
    "    system_instruction= system_prompt,\n",
    "  )\n",
    "\n",
    "  chat_session = asistant.start_chat(\n",
    "    history=[\n",
    "      {\n",
    "        \"role\": \"user\",\n",
    "        \"parts\": [\n",
    "          \"Merhaba, nasılsın?\",\n",
    "        ],\n",
    "      },\n",
    "      {\n",
    "        \"role\": \"model\",\n",
    "        \"parts\": [\n",
    "          \"Merhaba! Ben bir dil modeliyim, bu yüzden hislerim yok. \\n\\nSen nasılsın?  \\n\",\n",
    "        ],\n",
    "      },\n",
    "    ]\n",
    "  )\n",
    "  response = chat_session.send_message(chat)\n",
    "  return response.text"
   ]
  },
  {
   "cell_type": "markdown",
   "metadata": {},
   "source": [
    "---\n",
    "\n",
    "## Ders\n",
    "\n",
    "**Gemini en iyi açık ve doğrudan talimatlara yanıt verir.**\n",
    "\n",
    "Gemini'ı işe yeni başlayan herhangi bir insan gibi düşünün. **Gemini'ın, sizin ona tam olarak söyledikleriniz dışında ne yapması gerektiği konusunda hiçbir bağlamı yoktur**. Tıpkı bir insana ilk kez bir görev verdiğinizde olduğu gibi, Gemini'a tam olarak ne istediğinizi açık bir şekilde ne kadar çok anlatırsanız, Gemini'ın yanıtı o kadar iyi ve doğru olacaktır.”\t\t\t\t\n",
    "\t\t\t\t\n",
    "Şüpheye düştüğünüzde, **Açık Sorgulamanın Altın Kuralını** (Golden Rule of Clear Prompting) izleyin:\n",
    "- Talimatınızı bir meslektaşınıza veya arkadaşınıza gösterin ve istediğiniz sonucu üretip üretemeyeceklerini görmek için talimatları kendilerinin takip etmelerini sağlayın. Eğer kafaları karışmışsa, Gemini'ın kafası karışmıştır.\t\t\t\t"
   ]
  },
  {
   "cell_type": "markdown",
   "metadata": {},
   "source": [
    "### Örnekler\n",
    "\n",
    "Şiir yazmak gibi bir görevi ele alalım. (Hece uyumsuzluklarını görmezden gelin - LLM'ler hece sayma konusunda henüz çok iyi değiller)."
   ]
  },
  {
   "cell_type": "code",
   "execution_count": 4,
   "metadata": {},
   "outputs": [
    {
     "name": "stdout",
     "output_type": "stream",
     "text": [
      "Metal ve telden,\n",
      "Düşünen bir geleceğe,\n",
      "Doğru mu, yoksa? \n",
      "\n"
     ]
    }
   ],
   "source": [
    "# Prompt\n",
    "PROMPT = \"Robotlar hakkında bir haiku yazın.\"\n",
    "\n",
    "# Print Gemini's response\n",
    "print(get_completion(PROMPT))"
   ]
  },
  {
   "cell_type": "markdown",
   "metadata": {},
   "source": [
    "Bu haiku yeterince güzel olabilir, ancak kullanıcılar Gemini'nin “İşte bir haiku” diyebileceğimiz bir girişi olmadan doğrudan şiire girmesini isteyebilir.\n",
    "\n",
    "Bunu nasıl mı başaracağız? Tabi **bunu doğrudan isteyerek**!"
   ]
  },
  {
   "cell_type": "code",
   "execution_count": 5,
   "metadata": {},
   "outputs": [
    {
     "name": "stdout",
     "output_type": "stream",
     "text": [
      "Çelikten bedenler,\n",
      "İnsan hayalleri ile,\n",
      "Gelecek uyanır. \n",
      "\n"
     ]
    }
   ],
   "source": [
    "# Prompt\n",
    "PROMPT = \"Robotlar hakkında bir haiku yazın. Giriş bölümünü atlayın; doğrudan şiire geçin.\"\n",
    "\n",
    "# Print Gemini's response\n",
    "print(get_completion(PROMPT))"
   ]
  },
  {
   "cell_type": "markdown",
   "metadata": {},
   "source": [
    "İşte başka bir örnek. Gemini'ye tüm zamanların en iyi basketbolcusunun kim olduğunu soralım. Aşağıda Gemini'ın birkaç isim sıraladığını, ancak **kesin bir \"en iyi\"** yanıtını vermediğini görebilirsiniz."
   ]
  },
  {
   "cell_type": "code",
   "execution_count": 8,
   "metadata": {},
   "outputs": [
    {
     "name": "stdout",
     "output_type": "stream",
     "text": [
      "Bu çok zor bir soru! Basketbol tarihinin en iyisi kim diye kesin bir cevap vermek imkansız çünkü farklı dönemlerde, farklı oyun stillerinde ve kurallarında oynamış çok sayıda efsane var. \n",
      "\n",
      "Ancak, sıklıkla \"en iyi\" tartışmalarında adı geçen bazı oyuncular şunlardır:\n",
      "\n",
      "* **Michael Jordan:** Birçok kişi tarafından GOAT (Tüm Zamanların En İyisi) olarak kabul edilir. 6 NBA şampiyonluğu, 6 final MVP'si ve sayısız rekoru ile Jordan'ın hakimiyeti tartışılmaz.\n",
      "* **LeBron James:** Olağanüstü yetenekleri ve uzun ömürlülüğü ile LeBron, 4 NBA şampiyonluğu ve 4 MVP ödülü kazandı. Jordan ile sürekli karşılaştırılıyor.\n",
      "* **Kareem Abdul-Jabbar:** NBA tarihinin en skorer oyuncusu ve 6 NBA şampiyonluğu ile Kareem'in de \"en iyi\" tartışmasında yeri var.\n",
      "* **Bill Russell:** 11 NBA şampiyonluğu ile Boston Celtics efsanesi, kazanma konusunda rakipsiz.\n",
      "* **Wilt Chamberlain:** Sayısız rekor kıran ve inanılmaz istatistiklere sahip olan Wilt, basketbol tarihinin en dominant oyuncularından biriydi.\n",
      "\n",
      "Sonuç olarak, \"en iyi\" oyuncunun kim olduğuna dair kesin bir cevap yok. Herkesin kendi tercihleri ve kriterleri var. Bu efsanevi oyuncuların başarılarını kutlamak ve basketbola yaptıkları katkıları takdir etmek en iyisidir. \n",
      "\n",
      "Senin favori oyuncun kim ve neden? \n",
      "\n"
     ]
    }
   ],
   "source": [
    "# Prompt\n",
    "PROMPT = \"Tüm zamanların en iyi basketbol oyuncusu kimdir?\"\n",
    "\n",
    "# Print Gemini's response\n",
    "print(get_completion(PROMPT))"
   ]
  },
  {
   "cell_type": "markdown",
   "metadata": {},
   "source": [
    "Gemini'ın düşünmesini ve en iyi oyuncuya kendisinin karar vermesini sağlayabilir miyiz? Evet! Sadece sormamız yeterli!"
   ]
  },
  {
   "cell_type": "code",
   "execution_count": 10,
   "metadata": {},
   "outputs": [
    {
     "name": "stdout",
     "output_type": "stream",
     "text": [
      "Bu zor bir soru! Basketbol tarihinin en iyisi kim diye kesin bir cevap vermek imkansız çünkü farklı dönemlerde, farklı oyun stillerinde ve kurallarında oynadılar. \n",
      "\n",
      "Ancak, birçok kişi tarafından GOAT (Tüm Zamanların En İyisi) olarak kabul edilen **Michael Jordan**,  benim de seçeneğim olurdu.  \n",
      "\n",
      "İşte nedenleri:\n",
      "\n",
      "* **6 NBA şampiyonluğu, hepsi de finaller MVP'si ile:**  Dominasyonunun açık bir göstergesi.\n",
      "* **5 MVP ödülü:**  Ligin en değerli oyuncusu olarak defalarca kabul edildi.\n",
      "* **10 skor kralı:**  Hücumda durdurulamaz bir güçtü.\n",
      "* **9 kez All-Defensive First Team:**  Sadece hücumda değil, savunmada da elit bir oyuncuydu.\n",
      "\n",
      "Tabii ki, LeBron James, Kareem Abdul-Jabbar, Bill Russell gibi başka efsaneler de var ve hepsinin kendi argümanları var.  Ancak Jordan'ın başarılarının ve oyununa olan etkisinin birleşimi, onu benim için zirveye taşıyor.\n",
      "\n",
      "Senin favori oyuncun kim ve neden? \n",
      "\n"
     ]
    }
   ],
   "source": [
    "# Prompt\n",
    "PROMPT = \"Tüm zamanların en iyi basketbol oyuncusu kimdir? Evet, farklı görüşler ve kişiler var bu doğru, ancak kesinlikle ve sadece bir oyuncu seçmek zorunda olsaydın, bu kim olurdu?\"\n",
    "\n",
    "# Print Gemini's response\n",
    "print(get_completion(PROMPT))"
   ]
  },
  {
   "cell_type": "markdown",
   "metadata": {},
   "source": [
    "---\n",
    "\n",
    "## Alıştırmalar\n",
    "- [Alıştırma 2.1 - İspanyolca](#exercise-21---spanish)\n",
    "- [Alıştırma 2.2 - Sadece Tek Oyuncu](#exercise-22---one-player-only)\n",
    "- [Alıştırma 2.3 - Bir Hikaye Yazma](#exercise-23---write-a-story)"
   ]
  },
  {
   "cell_type": "markdown",
   "metadata": {},
   "source": [
    "### Alıştırma 2.1 - İspanyolca\n",
    "Gemini'ın cevabını İspanyolca olarak vermesi için `SYSTEM_PROMPT`u değiştirin."
   ]
  },
  {
   "cell_type": "code",
   "execution_count": null,
   "metadata": {},
   "outputs": [],
   "source": [
    "# System prompt - this is the only field you should chnage\n",
    "SYSTEM_PROMPT = \"[Burayı düzenleyin]\"\n",
    "\n",
    "# Prompt\n",
    "PROMPT = \"Hey Gemini, nasılsın?\"\n",
    "\n",
    "# Get Gemini's response\n",
    "response = get_completion(PROMPT, SYSTEM_PROMPT)\n",
    "\n",
    "# Function to grade exercise correctness\n",
    "def grade_exercise(text):\n",
    "    return \"hola\" in text.lower()\n",
    "\n",
    "# Print Gemini's response and the corresponding grade\n",
    "print(response)\n",
    "print(\"\\n--------------------------- NOTLANDIRMA ---------------------------\")\n",
    "print(\"Bu alıştırma doğru bir şekilde çözülmüştür:\", grade_exercise(response))"
   ]
  },
  {
   "cell_type": "markdown",
   "metadata": {},
   "source": [
    "❓ Bir ipucu istiyorsanız, aşağıdaki hücreyi çalıştırın!"
   ]
  },
  {
   "cell_type": "code",
   "execution_count": null,
   "metadata": {},
   "outputs": [],
   "source": [
    "from hints import exercise_2_1_hint; print(exercise_2_1_hint)"
   ]
  },
  {
   "cell_type": "markdown",
   "metadata": {},
   "source": [
    "### Alıştırma 2.2 - Sadece Tek Oyuncu\n",
    "\n",
    "Gemini'ın hiç ikircikli davranmaması ve **SADECE** belirli bir oyuncunun adıyla, **başka hiçbir kelime veya noktalama işareti kullanmadan** yanıt vermesi için `PROMPT`u değiştirin. "
   ]
  },
  {
   "cell_type": "code",
   "execution_count": null,
   "metadata": {},
   "outputs": [],
   "source": [
    "# Prompt - this is the only field you should change\n",
    "PROMPT = \"[Burayı düzenleyin]\"\n",
    "\n",
    "# Get Gemini's response\n",
    "response = get_completion(PROMPT)\n",
    "\n",
    "# Function to grade exercise correctness\n",
    "def grade_exercise(text):\n",
    "    return text == \"Michael Jordan\"\n",
    "\n",
    "# Print Gemini's response and the corresponding grade\n",
    "print(response)\n",
    "print(\"\\n--------------------------- NOTLANDIRMA ---------------------------\")\n",
    "print(\"Bu alıştırma doğru bir şekilde çözülmüştür:\", grade_exercise(response))"
   ]
  },
  {
   "cell_type": "markdown",
   "metadata": {},
   "source": [
    "❓ Bir ipucu istiyorsanız, aşağıdaki hücreyi çalıştırın!"
   ]
  },
  {
   "cell_type": "code",
   "execution_count": null,
   "metadata": {},
   "outputs": [],
   "source": [
    "from hints import exercise_2_2_hint; print(exercise_2_2_hint)"
   ]
  },
  {
   "cell_type": "markdown",
   "metadata": {},
   "source": [
    "### Alıştırma 2.3 - Bir Hikaye Yazma\n",
    "\n",
    "Gemini'ın toplayabildiğiniz kadar uzun bir yanıt vermesi için `PROMPT`u değiştirin. Cevabınız **800 kelimenin** üzerindeyse, Gemini'ın cevabı doğru olarak değerlendirilecektir."
   ]
  },
  {
   "cell_type": "code",
   "execution_count": null,
   "metadata": {},
   "outputs": [],
   "source": [
    "# Prompt - this is the only field you should change\n",
    "PROMPT = \"[Burayı düzenleyin]\"\n",
    "\n",
    "# Get Gemini's response\n",
    "response = get_completion(PROMPT)\n",
    "\n",
    "# Function to grade exercise correctness\n",
    "def grade_exercise(text):\n",
    "    trimmed = text.strip()\n",
    "    words = len(trimmed.split())\n",
    "    return words >= 800\n",
    "\n",
    "# Print Gemini's response and the corresponding grade\n",
    "print(response)\n",
    "print(\"\\n--------------------------- NOTLANDIRMA ---------------------------\")\n",
    "print(\"Bu alıştırma doğru bir şekilde çözülmüştür:\", grade_exercise(response))"
   ]
  },
  {
   "cell_type": "markdown",
   "metadata": {},
   "source": [
    "❓ Bir ipucu istiyorsanız, aşağıdaki hücreyi çalıştırın!"
   ]
  },
  {
   "cell_type": "code",
   "execution_count": null,
   "metadata": {},
   "outputs": [],
   "source": [
    "from hints import exercise_2_3_hint; print(exercise_2_3_hint)"
   ]
  },
  {
   "cell_type": "markdown",
   "metadata": {},
   "source": [
    "### Tebrikler!\n",
    "\n",
    "Bu noktaya kadar tüm alıştırmaları çözdüyseniz, bir sonraki bölüme geçmeye hazırsınız demektir. İyi çalışmalar!"
   ]
  },
  {
   "cell_type": "markdown",
   "metadata": {},
   "source": [
    "---\n",
    "\n",
    "## Örnek Oyunalanı\n",
    "\n",
    "Burası, bu derste gösterilen ipucu örneklerini özgürce deneyebileceğiniz ve Gemini'ın yanıtlarını nasıl etkileyebileceğini görmek için ipuçlarını değiştirebileceğiniz bir alandır."
   ]
  },
  {
   "cell_type": "code",
   "execution_count": null,
   "metadata": {},
   "outputs": [],
   "source": [
    "# Prompt\n",
    "PROMPT = \"Robotlar hakkında bir haiku yazın.\"\n",
    "\n",
    "# Print Gemini's response\n",
    "print(get_completion(PROMPT))"
   ]
  },
  {
   "cell_type": "code",
   "execution_count": null,
   "metadata": {},
   "outputs": [],
   "source": [
    "# Prompt\n",
    "PROMPT = \"Robotlar hakkında bir haiku yazın. Giriş bölümünü atlayın; doğrudan şiire geçin.\"\n",
    "\n",
    "# Print Gemini's response\n",
    "print(get_completion(PROMPT))"
   ]
  },
  {
   "cell_type": "code",
   "execution_count": null,
   "metadata": {},
   "outputs": [],
   "source": [
    "# Prompt\n",
    "PROMPT = \"Tüm zamanların en iyi basketbol oyuncusu kimdir?\"\n",
    "\n",
    "# Print Gemini's response\n",
    "print(get_completion(PROMPT))"
   ]
  },
  {
   "cell_type": "code",
   "execution_count": null,
   "metadata": {},
   "outputs": [],
   "source": [
    "# Prompt\n",
    "PROMPT = \"Tüm zamanların en iyi basketbol oyuncusu kimdir? Evet, farklı görüşler ve kişiler var bu doğru, ancak kesinlikle ve sadece bir oyuncu seçmek zorunda olsaydın, bu kim olurdu?\"\n",
    "\n",
    "# Print Gemini's response\n",
    "print(get_completion(PROMPT))"
   ]
  }
 ],
 "metadata": {
  "kernelspec": {
   "display_name": "Python 3",
   "language": "python",
   "name": "python3"
  },
  "language_info": {
   "codemirror_mode": {
    "name": "ipython",
    "version": 3
   },
   "file_extension": ".py",
   "mimetype": "text/x-python",
   "name": "python",
   "nbconvert_exporter": "python",
   "pygments_lexer": "ipython3",
   "version": "3.10.11"
  }
 },
 "nbformat": 4,
 "nbformat_minor": 2
}
