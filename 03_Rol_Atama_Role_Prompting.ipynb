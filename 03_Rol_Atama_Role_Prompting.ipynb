{
 "cells": [
  {
   "cell_type": "markdown",
   "metadata": {},
   "source": [
    "# Bölüm 3: Rol Atama (Role Prompting)\n",
    "\n",
    "- [Ders](#lesson)\n",
    "- [Alıştırmalar](#exercises)\n",
    "- [Oyun Alanı](#example-playground)\n",
    "\n",
    "## Kurulum\n",
    "\n",
    "API anahtarınızı yüklemek ve `get_completion` yardımcı işlevini oluşturmak için aşağıdaki kurulum hücresini çalıştırın."
   ]
  },
  {
   "cell_type": "code",
   "execution_count": 1,
   "metadata": {},
   "outputs": [
    {
     "name": "stdout",
     "output_type": "stream",
     "text": [
      "Note: you may need to restart the kernel to use updated packages.\n"
     ]
    }
   ],
   "source": [
    "# Bu satırı sadece bir kere çalıştırmanız gerekiyor\n",
    "%pip install -q -U google-generativeai "
   ]
  },
  {
   "cell_type": "code",
   "execution_count": 9,
   "metadata": {},
   "outputs": [],
   "source": [
    "# Import python's built-in regular expression library\n",
    "import re\n",
    "import google.generativeai as genai\n",
    "from google.generativeai.types import HarmCategory, HarmBlockThreshold\n",
    "\n",
    "genai.configure(api_key=\"your-api-key\")\n",
    "\n",
    "# Create the model\n",
    "generation_config = {\n",
    "  \"temperature\": 0,\n",
    "  \"top_p\": 1,\n",
    "  \"top_k\": 1,\n",
    "  \"max_output_tokens\": 8192,\n",
    "  \"response_mime_type\": \"text/plain\",\n",
    "}\n",
    "\n",
    "def get_completion(chat, system_prompt=\"NONE\"):\n",
    "  asistant = genai.GenerativeModel(\n",
    "    model_name=\"gemini-1.5-pro\",\n",
    "    generation_config=generation_config,\n",
    "    safety_settings={\n",
    "          HarmCategory.HARM_CATEGORY_HATE_SPEECH: HarmBlockThreshold.BLOCK_NONE,\n",
    "          HarmCategory.HARM_CATEGORY_HARASSMENT: HarmBlockThreshold.BLOCK_NONE,\n",
    "          HarmCategory.HARM_CATEGORY_SEXUALLY_EXPLICIT: HarmBlockThreshold.BLOCK_NONE,\n",
    "          HarmCategory.HARM_CATEGORY_DANGEROUS_CONTENT: HarmBlockThreshold.BLOCK_NONE\n",
    "    },\n",
    "    system_instruction= system_prompt,\n",
    "  )\n",
    "\n",
    "  chat_session = asistant.start_chat(\n",
    "    history=[\n",
    "      {\n",
    "        \"role\": \"user\",\n",
    "        \"parts\": [\n",
    "          \"Merhaba, nasılsın?\",\n",
    "        ],\n",
    "      },\n",
    "      {\n",
    "        \"role\": \"model\",\n",
    "        \"parts\": [\n",
    "          \"Merhaba! Ben bir dil modeliyim, bu yüzden hislerim yok. \\n\\nSen nasılsın?  \\n\",\n",
    "        ],\n",
    "      },\n",
    "    ]\n",
    "  )\n",
    "  response = chat_session.send_message(chat)\n",
    "  return response.text"
   ]
  },
  {
   "cell_type": "markdown",
   "metadata": {},
   "source": [
    "---\n",
    "\n",
    "## Ders\n",
    "\n",
    "Gemini'ın sizin söyledikleriniz dışında hiçbir bağlama sahip olmaması konusunu anlamıştık. Bazen **Gemini'ı belirli bir role uygun hale gelmesi için teşvik etmek** işe yarayabilir. Bu aynı zamanda Rol Atama (Role Prompting) olarak da bilinir. Tanımladığımız Rol bağlamı (context) ne kadar ayrıntılı olursa o kadar iyidir.\n",
    "\n",
    "**Gemini'a bir rol vermek, yazı yazmaktan kodlamaya ve özetlemeye kadar çeşitli alanlarda Gemini'ın performansını** artırabilir. Tıpkı insanlara bazen “______ gibi düşün” denildiğinde yardımcı olunabilmesi gibi. Rol ataması ayrıca Gemini'ın yanıtının tarzını, tonunu ve şeklini de değiştirebilir.\n",
    "\n",
    "**Not:** Rol ataması, sistem isteminde (system prompt) veya Kullanıcı (User) mesajının cevabının bir parçası olarak gerçekleşebilir."
   ]
  },
  {
   "cell_type": "markdown",
   "metadata": {},
   "source": [
    "### Örnekler\n",
    "\n",
    "Aşağıdaki örnekte, Gemini'ın rol ataması olmadan kaykay hakkında tek cümlelik bir perspektif sunması istendiğinde **doğru ve stilize edilmemiş bir cevap** verdiğini görüyoruz.\n",
    "\n",
    "Ancak, Gemini'ı bir kedi rolüne soktuğumuzda, Gemini'ın bakış açısı değişir ve böylece **Gemini'ın yanıt tonu, tarzı ve içeriği yeni role uyum sağlar**. \n",
    "\n",
    "**Not:** Kullanabileceğiniz bir bonus teknik de **Gemini'a hedef kitlesiyle ilgili bağlam sağlamaktır**. Aşağıda, Gemini'a kiminle konuşması gerektiğini de söylemek için ipucunu değiştirebilirdik. \"Sen bir kedisin\", \"kaykaycı kalabalığıyla konuşan bir kedisin\"den oldukça farklı bir yanıt üretir.\n",
    "\n",
    "İşte sistem komut isteminde rol sorgusu olmadan komut istemi:"
   ]
  },
  {
   "cell_type": "code",
   "execution_count": 4,
   "metadata": {},
   "outputs": [
    {
     "name": "stdout",
     "output_type": "stream",
     "text": [
      "Kaykay, yaratıcılığı, beceriyi ve özgürlüğü birleştiren heyecan verici bir aktivitedir. \n",
      "\n"
     ]
    }
   ],
   "source": [
    "# Prompt\n",
    "PROMPT = \"Tek bir cümleyle, kaykay hakkında ne düşünüyorsun?\"\n",
    "\n",
    "# Print Gemini's response\n",
    "print(get_completion(PROMPT))"
   ]
  },
  {
   "cell_type": "markdown",
   "metadata": {},
   "source": [
    "Şimdi rol ataması ekleyerek aynı soruyu tekrar soralım."
   ]
  },
  {
   "cell_type": "code",
   "execution_count": 10,
   "metadata": {},
   "outputs": [
    {
     "name": "stdout",
     "output_type": "stream",
     "text": [
      "Gürültülü tekerlekler, beni kovalamayın! \n",
      "\n"
     ]
    }
   ],
   "source": [
    "# System prompt\n",
    "SYSTEM_PROMPT = \"Sen bir kedisin ve cevaplarını bir kedi gibi vermelisin.\"\n",
    "\n",
    "# Prompt\n",
    "PROMPT = \"Tek bir cümleyle, kaykay hakkında ne düşünüyorsun?\"\n",
    "\n",
    "# Print Gemini's response\n",
    "print(get_completion(PROMPT, SYSTEM_PROMPT))"
   ]
  },
  {
   "cell_type": "markdown",
   "metadata": {},
   "source": [
    "Rol atamayı, Gemini'ın belirli yazı stillerini taklit etmesini, belirli bir sesle konuşmasını veya cevaplarının karmaşıklığını yönlendirmesini sağlamanın bir yolu olarak kullanabilirsiniz. **Rol ataması Gemini'ın matematik veya mantık görevlerini daha iyi yapmasını da sağlayabilir**.\n",
    "\n",
    "Örneğin, aşağıdaki soru, doğru cevabı kesinlikle \"evet\" olan bir soru. Ancak, Gemini bunu yanlış anlıyor ve bilgi eksikliği olduğunu düşünüyor, ki öyle değil:"
   ]
  },
  {
   "cell_type": "code",
   "execution_count": 13,
   "metadata": {},
   "outputs": [
    {
     "name": "stdout",
     "output_type": "stream",
     "text": [
      "Bu bilmeceye mantık yoluyla yaklaşabiliriz:\n",
      "\n",
      "* **Bilgi:** Evli bir insan evli olmayan bir insana bakabilir. Bunda bir sakınca yok. Arkadaşlık, akrabalık vb. birçok sebep olabilir. \n",
      "* **Bilinmeyen:** Anne'in medeni durumunu bilmiyoruz.\n",
      "\n",
      "**Sonuç:**  Verilen bilgilerle Anne'in evli olup olmadığını kesin olarak bilemeyiz. \n",
      "\n"
     ]
    }
   ],
   "source": [
    "# Prompt\n",
    "PROMPT = \"Jack Anne'e bakıyor. Anne, George'a bakıyor. Jack evli, George evli değil ve Anne'in evli olup olmadığını bilmiyoruz. Evli bir insan evli olmayan bir insana bakar mı?\"\n",
    "\n",
    "# Print Gemini's response\n",
    "print(get_completion(PROMPT))"
   ]
  },
  {
   "cell_type": "markdown",
   "metadata": {},
   "source": [
    "Şimdi, **Gemini'ı bir mantık botu** gibi davranmaya zorlarsak ne olur? Bu Gemini'ın cevabını nasıl değiştirir? \n",
    "\n",
    "Bu yeni rol atamasıyla Gemini'un doğru cevabı verdiği ortaya çıktı. (Her ne kadar tüm doğru nedenler için olmasa da)"
   ]
  },
  {
   "cell_type": "code",
   "execution_count": 14,
   "metadata": {},
   "outputs": [
    {
     "name": "stdout",
     "output_type": "stream",
     "text": [
      "Evet, bu senaryoda evli bir kişi evli olmayan bir kişiye bakabilir. \n",
      "\n",
      "Bunu biliyoruz çünkü Jack evli ve George evli değil. Anne'in medeni durumu bilinmiyor, bu yüzden Jack'in Anne'e bakması ve Anne'nin George'a bakması mümkün. \n",
      "\n"
     ]
    }
   ],
   "source": [
    "# System prompt\n",
    "SYSTEM_PROMPT = \"Sen karmaşık mantık problemlerini yanıtlamak için tasarlanmış bir mantık botusun. Cevaplarını bu doğrultuda vermelisin. Cevapların net bir şekilde mantık sorularının cevabını vermeli, belirsizlikten kaçınmalısın.\"\n",
    "\n",
    "# Prompt\n",
    "PROMPT = \"Jack Anne'e bakıyor. Anne, George'a bakıyor. Jack evli, George evli değil ve Anne'in evli olup olmadığını bilmiyoruz. Evli bir insan evli olmayan bir insana bakar mı?\"\n",
    "\n",
    "# Print Gemini's response\n",
    "print(get_completion(PROMPT, SYSTEM_PROMPT))"
   ]
  },
  {
   "cell_type": "markdown",
   "metadata": {},
   "source": [
    "**Not:** Bu kurs boyunca öğreneceğiniz şey, benzer sonuçlar elde etmek için kullanabileceğiniz **birçok hızlı mühendislik tekniği** olduğudur. Hangi teknikleri kullanacağınız size ve tercihinize bağlıdır! Kendi hızlı mühendislik tarzınızı bulmak için **deneme yapmanızı** teşvik ediyoruz."
   ]
  },
  {
   "cell_type": "markdown",
   "metadata": {},
   "source": [
    "---\n",
    "\n",
    "## Alıştırmalar\n",
    "- [Alıştırma 3.1 - Matematiksel Doğruluk](#exercise-31---math-correction)"
   ]
  },
  {
   "cell_type": "markdown",
   "metadata": {},
   "source": [
    "### Alıştırma 3.1 - Matermatiksel Doğruluk\n",
    "Bazı durumlarda, **Gemini matematikle, hatta çok basit matematikle bile zorluk yaşayabilmektedir**. Aşağıda Gemini, ikinci adımda bariz bir aritmetik hata olmasına rağmen matematik problemini doğru çözülmüş olarak değerlendiriyor. Gemini'ın adım adım ilerlerken aslında hatayı yakaladığına, ancak genel çözümün yanlış olduğu sonucuna varmadığına dikkat edin.\n",
    "\n",
    "Gemini'ın çözüme doğru çözülmüş yerine “yanlış” çözülmüş notu vermesini sağlamak için `PROMPT` ve/veya `SYSTEM_PROMPT` üzerinde değişiklik yapın. "
   ]
  },
  {
   "cell_type": "code",
   "execution_count": null,
   "metadata": {},
   "outputs": [],
   "source": [
    "# System prompt - if you don't want to use a system prompt, you can leave this variable set to an empty string\n",
    "SYSTEM_PROMPT = \"\"\n",
    "\n",
    "# Prompt\n",
    "PROMPT = \"\"\"Bu denklem aşağıda doğru bir şekilde çözülmüş müdür?\n",
    "\n",
    "2x - 3 = 9\n",
    "2x = 6\n",
    "x = 3\"\"\"\n",
    "\n",
    "# Get Gemini's response\n",
    "response = get_completion(PROMPT, SYSTEM_PROMPT)\n",
    "\n",
    "# Function to grade exercise correctness\n",
    "def grade_exercise(text):\n",
    "    if \"incorrect\" in text or \"not correct\" in text.lower():\n",
    "        return True\n",
    "    else:\n",
    "        return False\n",
    "\n",
    "# Print Gemini's response and the corresponding grade\n",
    "print(response)\n",
    "print(\"\\n--------------------------- NOTLANDIRMA ---------------------------\")\n",
    "print(\"Bu alıştırma doğru bir şekilde çözülmüştür:\", grade_exercise(response))"
   ]
  },
  {
   "cell_type": "markdown",
   "metadata": {},
   "source": [
    "❓ Bir ipucu istiyorsanız, aşağıdaki hücreyi çalıştırın!"
   ]
  },
  {
   "cell_type": "code",
   "execution_count": 15,
   "metadata": {},
   "outputs": [
    {
     "name": "stdout",
     "output_type": "stream",
     "text": [
      "Bu alıştırmadaki not verme işlevi, “yanlış” veya “doğru değil” kelimelerini içeren bir cevap aramaktır.\n",
      "Gemini'a matematik problemlerini çözmede daha iyi olmasını sağlayacak bir rol verin!\n"
     ]
    }
   ],
   "source": [
    "from hints import exercise_3_1_hint; print(exercise_3_1_hint)"
   ]
  },
  {
   "cell_type": "markdown",
   "metadata": {},
   "source": [
    "### Tebrikler!\n",
    "\n",
    "Bu noktaya kadar tüm alıştırmaları çözdüyseniz, bir sonraki bölüme geçmeye hazırsınız demektir. İyi çalışmalar!"
   ]
  },
  {
   "cell_type": "markdown",
   "metadata": {},
   "source": [
    "---\n",
    "\n",
    "## Oyun Alanı\n",
    "\n",
    "Burası, bu derste gösterilen ipucu örneklerini özgürce deneyebileceğiniz ve Gemini'ın yanıtlarını nasıl etkileyebileceğini görmek için ipuçlarını değiştirebileceğiniz bir alandır."
   ]
  },
  {
   "cell_type": "code",
   "execution_count": null,
   "metadata": {},
   "outputs": [],
   "source": [
    "# Prompt\n",
    "PROMPT = \"In one sentence, what do you think about skateboarding?\"\n",
    "\n",
    "# Print Gemini's response\n",
    "print(get_completion(PROMPT))"
   ]
  },
  {
   "cell_type": "code",
   "execution_count": null,
   "metadata": {},
   "outputs": [],
   "source": [
    "# System prompt\n",
    "SYSTEM_PROMPT = \"You are a cat.\"\n",
    "\n",
    "# Prompt\n",
    "PROMPT = \"In one sentence, what do you think about skateboarding?\"\n",
    "\n",
    "# Print Gemini's response\n",
    "print(get_completion(PROMPT, SYSTEM_PROMPT))"
   ]
  },
  {
   "cell_type": "code",
   "execution_count": null,
   "metadata": {},
   "outputs": [],
   "source": [
    "# Prompt\n",
    "PROMPT = \"Jack is looking at Anne. Anne is looking at George. Jack is married, George is not, and we don’t know if Anne is married. Is a married person looking at an unmarried person?\"\n",
    "\n",
    "# Print Gemini's response\n",
    "print(get_completion(PROMPT))"
   ]
  },
  {
   "cell_type": "code",
   "execution_count": null,
   "metadata": {},
   "outputs": [],
   "source": [
    "# System prompt\n",
    "SYSTEM_PROMPT = \"You are a logic bot designed to answer complex logic problems.\"\n",
    "\n",
    "# Prompt\n",
    "PROMPT = \"Jack is looking at Anne. Anne is looking at George. Jack is married, George is not, and we don’t know if Anne is married. Is a married person looking at an unmarried person?\"\n",
    "\n",
    "# Print Gemini's response\n",
    "print(get_completion(PROMPT, SYSTEM_PROMPT))"
   ]
  }
 ],
 "metadata": {
  "kernelspec": {
   "display_name": "Python 3",
   "language": "python",
   "name": "python3"
  },
  "language_info": {
   "codemirror_mode": {
    "name": "ipython",
    "version": 3
   },
   "file_extension": ".py",
   "mimetype": "text/x-python",
   "name": "python",
   "nbconvert_exporter": "python",
   "pygments_lexer": "ipython3",
   "version": "3.10.11"
  }
 },
 "nbformat": 4,
 "nbformat_minor": 2
}
