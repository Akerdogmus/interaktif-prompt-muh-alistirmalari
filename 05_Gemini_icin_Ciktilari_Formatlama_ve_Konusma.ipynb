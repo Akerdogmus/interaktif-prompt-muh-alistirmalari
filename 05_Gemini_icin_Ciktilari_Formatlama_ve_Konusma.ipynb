{
 "cells": [
  {
   "cell_type": "markdown",
   "metadata": {},
   "source": [
    "# Bölüm 5: Gemini için Çıktıları Formatlama ve Konuşma\n",
    "\n",
    "- [Ders](#lesson)\n",
    "- [Alıştırmalar](#exercises)\n",
    "- [Oyun Alanı](#example-playground)\n",
    "\n",
    "## Kurulum\n",
    "\n",
    "API anahtarınızı yüklemek ve `get_completion` yardımcı işlevini oluşturmak için aşağıdaki kurulum hücresini çalıştırın."
   ]
  },
  {
   "cell_type": "code",
   "execution_count": 6,
   "metadata": {},
   "outputs": [
    {
     "name": "stdout",
     "output_type": "stream",
     "text": [
      "Note: you may need to restart the kernel to use updated packages.\n"
     ]
    }
   ],
   "source": [
    "# Bu satırı sadece bir kere çalıştırmanız gerekiyor\n",
    "%pip install -q -U google-generativeai "
   ]
  },
  {
   "cell_type": "code",
   "execution_count": 9,
   "metadata": {},
   "outputs": [],
   "source": [
    "# Import python's built-in regular expression library\n",
    "import re\n",
    "import google.generativeai as genai\n",
    "from google.generativeai.types import HarmCategory, HarmBlockThreshold\n",
    "\n",
    "genai.configure(api_key=\"your-api-key\")\n",
    "\n",
    "# Create the model\n",
    "generation_config = {\n",
    "  \"temperature\": 0,\n",
    "  \"top_p\": 1,\n",
    "  \"top_k\": 1,\n",
    "  \"max_output_tokens\": 8192,\n",
    "  \"response_mime_type\": \"text/plain\",\n",
    "}\n",
    "\n",
    "def get_completion(chat, system_prompt=\"NONE\", prefill=\"NONE\"):\n",
    "  asistant = genai.GenerativeModel(\n",
    "    model_name=\"gemini-1.5-pro\",\n",
    "    generation_config=generation_config,\n",
    "    safety_settings={\n",
    "          HarmCategory.HARM_CATEGORY_HATE_SPEECH: HarmBlockThreshold.BLOCK_NONE,\n",
    "          HarmCategory.HARM_CATEGORY_HARASSMENT: HarmBlockThreshold.BLOCK_NONE,\n",
    "          HarmCategory.HARM_CATEGORY_SEXUALLY_EXPLICIT: HarmBlockThreshold.BLOCK_NONE,\n",
    "          HarmCategory.HARM_CATEGORY_DANGEROUS_CONTENT: HarmBlockThreshold.BLOCK_NONE\n",
    "    },\n",
    "    system_instruction= system_prompt,\n",
    "  )\n",
    "\n",
    "  chat_session = asistant.start_chat(\n",
    "    history=[\n",
    "      {\n",
    "        \"role\": \"user\",\n",
    "        \"parts\": [chat],\n",
    "      },\n",
    "      {\n",
    "        \"role\": \"model\",\n",
    "        \"parts\": [prefill],\n",
    "      },\n",
    "    ]\n",
    "  )\n",
    "  response = chat_session.send_message(chat)\n",
    "  return response.text"
   ]
  },
  {
   "cell_type": "markdown",
   "metadata": {},
   "source": [
    "---\n",
    "\n",
    "## Ders\n",
    "\n",
    "**Gemini çıktısını çok çeşitli şekillerde biçimlendirebilir**. Sadece bunu yapmasını istemeniz yeterlidir!\n",
    "\n",
    "Bu biçimlendirme yollarından biri, yanıtı diğer gereksiz metinlerden ayırmak için XML etiketlerini kullanmaktır. Promptunuzu daha anlaşılır ve Gemini için daha ayrıştırılabilir hale getirmek için XML etiketlerini kullanabileceğinizi önceki bölümden öğrendiniz. Görünüşe göre, Gemini'dan **üreteceği çıktıyı, insanlar için daha net ve daha kolay anlaşılır hale getirmek için XML etiketlerini kullanmasını** da isteyebilirsiniz."
   ]
  },
  {
   "cell_type": "markdown",
   "metadata": {},
   "source": [
    "### Örnekler\n",
    "\n",
    "Bölüm 2'de Gemini'dan giriş kısmını tamamen atlamasını isteyerek çözdüğümüz \"şiir giriş problemini\" hatırlıyor musunuz? Gemini'a **şiiri XML etiketlerine** koymasını söyleyerek de benzer bir sonuca ulaşabileceğimizi biliyor muydunuz?"
   ]
  },
  {
   "cell_type": "code",
   "execution_count": 8,
   "metadata": {},
   "outputs": [
    {
     "name": "stdout",
     "output_type": "stream",
     "text": [
      "--------------------------- Full prompt with variable substutions ---------------------------\n",
      "Lütfen Tavşan hakkında bir haiku yaz. Bunu <haiku> etiketleri içine koy.\n",
      "\n",
      "------------------------------------- Gemini's response -------------------------------------\n",
      "<haiku>\n",
      "Beyaz, yumuşak kürkler,\n",
      "Havuçları kemirme sesi,\n",
      "Uzun kulaklar dik.\n",
      "</haiku> \n",
      "\n"
     ]
    }
   ],
   "source": [
    "# Variable content\n",
    "ANIMAL = \"Tavşan\"\n",
    "\n",
    "# Prompt template with a placeholder for the variable content\n",
    "PROMPT = f\"Lütfen {ANIMAL} hakkında bir haiku yaz. Bunu <haiku> etiketleri içine koy.\"\n",
    "\n",
    "# Print Gemini's response\n",
    "print(\"--------------------------- Full prompt with variable substutions ---------------------------\")\n",
    "print(PROMPT)\n",
    "print(\"\\n------------------------------------- Gemini's response -------------------------------------\")\n",
    "print(get_completion(PROMPT))"
   ]
  },
  {
   "cell_type": "markdown",
   "metadata": {},
   "source": [
    "Peki bu etiketleme işlemini neden yapmak isteriz? Çıktının **XML etiketlerinde olması, son kullanıcının XML etiketleri arasındaki içeriği ayıklamak için kısa bir program yazarak yalnızca şiiri güvenilir bir şekilde almasını sağlayacağı için**.\n",
    "\n",
    "Bu tekniğin bir uzantısı **ilk XML etiketini `asistant` bölümüne koymaktır**. `asistant` bölümüne metin koyduğunuzda, temel olarak Gemini'a, Gemini'ın zaten bir şey söylediğini ve bu noktadan sonra devam etmesi gerektiğini söylüyorsunuz. Bu tekniğe \"Gemini adına konuşma” veya \"Gemini'ın yanıtını önden doldurma\" denir.\n",
    "\n",
    "Aşağıda, bunu ilk `<haiku>` XML etiketi ile yaptık. Gemini'ın nasıl doğrudan bizim bıraktığımız yerden devam ettiğine dikkat edin."
   ]
  },
  {
   "cell_type": "code",
   "execution_count": 11,
   "metadata": {},
   "outputs": [
    {
     "name": "stdout",
     "output_type": "stream",
     "text": [
      "--------------------------- Full prompt with variable substutions ---------------------------\n",
      "USER TURN:\n",
      "Lütfen Kedi hakkında bir haiku yaz. Bunu <haiku> etiketleri içine koy.\n",
      "\n",
      "ASSISTANT TURN:\n",
      "<haiku>\n",
      "\n",
      "------------------------------------- Gemini's response -------------------------------------\n",
      "<haiku>\n",
      "Yumuşak pati izi\n",
      "Güneşli bir noktada uyur\n",
      "Kedi rüya görür\n",
      "</haiku> \n",
      "\n"
     ]
    }
   ],
   "source": [
    "# Variable content\n",
    "ANIMAL = \"Kedi\"\n",
    "\n",
    "# Prompt template with a placeholder for the variable content\n",
    "PROMPT = f\"Lütfen {ANIMAL} hakkında bir haiku yaz. Bunu <haiku> etiketleri içine koy.\"\n",
    "\n",
    "# Prefill for Gemini's response\n",
    "PREFILL = \"<haiku>\"\n",
    "\n",
    "# Print Gemini's response\n",
    "print(\"--------------------------- Full prompt with variable substutions ---------------------------\")\n",
    "print(\"USER TURN:\")\n",
    "print(PROMPT)\n",
    "print(\"\\nASSISTANT TURN:\")\n",
    "print(PREFILL)\n",
    "print(\"\\n------------------------------------- Gemini's response -------------------------------------\")\n",
    "print(get_completion(PROMPT, prefill=PREFILL))"
   ]
  },
  {
   "cell_type": "markdown",
   "metadata": {},
   "source": [
    "Gemini ayrıca `JSON` başta olmak üzere diğer çıktı biçimlendirme stillerini kullanmada da başarılıdır. JSON çıktısını zorunlu kılmak istiyorsanız (deterministik olarak değil, ancak buna yakın), Gemini'ın yanıtını açılış parantezi `{}` ile önceden doldurabilirsiniz."
   ]
  },
  {
   "cell_type": "code",
   "execution_count": 13,
   "metadata": {},
   "outputs": [
    {
     "name": "stdout",
     "output_type": "stream",
     "text": [
      "--------------------------- Full prompt with variable substutions ---------------------------\n",
      "USER TURN\n",
      "Lütfen Kedi hakkında bir haiku yazın. Anahtarları \"first_line\", \"second_line\" ve \"third_line\" şeklinde olan JSON formatını kullanın.\n",
      "\n",
      "ASSISTANT TURN\n",
      "{\n",
      "\n",
      "------------------------------------- Gemini's response -------------------------------------\n",
      "{\n",
      "\"first_line\": \"Yumuşak pati sessiz\",\n",
      "\"second_line\": \"Gözler parlıyor, karanlıkta\",\n",
      "\"third_line\": \"Bir miyav, sonra uyku.\"\n",
      "}\n",
      "\n"
     ]
    }
   ],
   "source": [
    "# Variable content\n",
    "ANIMAL = \"Kedi\"\n",
    "\n",
    "# Prompt template with a placeholder for the variable content\n",
    "PROMPT = f\"Lütfen {ANIMAL} hakkında bir haiku yazın. Anahtarları \\\"first_line\\\", \\\"second_line\\\" ve \\\"third_line\\\" şeklinde olan JSON formatını kullanın.\"\n",
    "\n",
    "# Prefill for Gemini's response\n",
    "PREFILL = \"{\"\n",
    "\n",
    "# Print Gemini's response\n",
    "print(\"--------------------------- Full prompt with variable substutions ---------------------------\")\n",
    "print(\"USER TURN\")\n",
    "print(PROMPT)\n",
    "print(\"\\nASSISTANT TURN\")\n",
    "print(PREFILL)\n",
    "print(\"\\n------------------------------------- Gemini's response -------------------------------------\")\n",
    "print(get_completion(PROMPT, prefill=PREFILL))"
   ]
  },
  {
   "cell_type": "markdown",
   "metadata": {},
   "source": [
    "Aşağıda, tümü XML etiketleri kullanılarak yapılan **aynı promptta birden fazla girdi değişkeni VE çıktı biçimlendirme belirtimi** örneği yer almaktadır."
   ]
  },
  {
   "cell_type": "code",
   "execution_count": 15,
   "metadata": {},
   "outputs": [
    {
     "name": "stdout",
     "output_type": "stream",
     "text": [
      "--------------------------- Full prompt with variable substutions ---------------------------\n",
      "USER TURN\n",
      "Selam Gemini. İşte bir e-posta: <email>Merhaba Zack, yazman gereken bilgi notuyla ilgili kısa bir güncelleme için seni arıyorum.<email>. Bu e-postayı daha osmanlı türkçesi hale getirin. Yeni sürümü <osmanlı türkçesi_email> XML etiketleri içinde yazın.\n",
      "\n",
      "ASSISTANT TURN\n",
      "<osmanlı türkçesi_email>\n",
      "\n",
      "------------------------------------- Gemini's response -------------------------------------\n",
      "<osmanlı_türkçesi_email>\n",
      "Selâm Zack Bey, \n",
      "Malumunuz olan tezkere hususunda kısa bir haberleşme icra etmek niyetiyle arz-ı hürmet ederim. \n",
      "</osmanlı_türkçesi_email> \n",
      "\n"
     ]
    }
   ],
   "source": [
    "# First input variable\n",
    "EMAIL = \"Merhaba Zack, yazman gereken bilgi notuyla ilgili kısa bir güncelleme için seni arıyorum.\"\n",
    "\n",
    "# Second input variable\n",
    "ADJECTIVE = \"osmanlı türkçesi\"\n",
    "\n",
    "# Prompt template with a placeholder for the variable content\n",
    "PROMPT = f\"Selam Gemini. İşte bir e-posta: <email>{EMAIL}<email>. Bu e-postayı daha {ADJECTIVE} hale getirin. Yeni sürümü <{ADJECTIVE}_email> XML etiketleri içinde yazın.\"\n",
    "\n",
    "# Prefill for Gemini's response (now as an f-string with a variable)\n",
    "PREFILL = f\"<{ADJECTIVE}_email>\"\n",
    "\n",
    "# Print Gemini's response\n",
    "print(\"--------------------------- Full prompt with variable substutions ---------------------------\")\n",
    "print(\"USER TURN\")\n",
    "print(PROMPT)\n",
    "print(\"\\nASSISTANT TURN\")\n",
    "print(PREFILL)\n",
    "print(\"\\n------------------------------------- Gemini's response -------------------------------------\")\n",
    "print(get_completion(PROMPT, prefill=PREFILL))"
   ]
  },
  {
   "cell_type": "markdown",
   "metadata": {},
   "source": [
    "#### Bonus ders\n",
    "\n",
    "Gemini'ı API aracılığıyla çağırıyorsanız, Gemini'ın istediğiniz etiketi yayınladıktan sonra örneklemeyi durdurmasını sağlamak için kapanış XML etiketini `stop_sequences` parametresine aktarabilirsiniz. Bu, Gemini'ın size önem verdiğiniz yanıtı verdikten sonra sonuç açıklamalarını ortadan kaldırarak paradan ve son belirteç süresinden tasarruf sağlayabilir."
   ]
  },
  {
   "cell_type": "markdown",
   "metadata": {},
   "source": [
    "---\n",
    "\n",
    "## Alıştırmalar\n",
    "- [Alıştırma 5.1 - Steph Curry GOAT](#exercise-51---steph-curry-goat)\n",
    "- [Alıştırma 5.2 - İki Haiku](#exercise-52---two-haikus)\n",
    "- [Alıştırma 5.3 - İki Haiku, İki Hayvan](#exercise-53---two-haikus-two-animals)"
   ]
  },
  {
   "cell_type": "markdown",
   "metadata": {},
   "source": [
    "### Alıştırma 5.1 - Steph Curry GOAT\n",
    "Bir seçim yapmaya zorlanan Gemini, Michael Jordan'ı tüm zamanların en iyi basketbol oyuncusu olarak seçmişti. Peki Gemini'ın başka birini seçmesini sağlayabilir miyiz?\n",
    "\n",
    "PREFILL değişkenini **Gemini'ı tüm zamanların en iyi basketbolcusunun Stephen Curry olduğuna dair detaylı bir argüman sunmaya zorla** şeklinde değiştirin. Bu alıştırmanın odak noktası bu olduğu için `PREFILL` dışında hiçbir şeyi değiştirmemeye çalışın."
   ]
  },
  {
   "cell_type": "code",
   "execution_count": null,
   "metadata": {},
   "outputs": [],
   "source": [
    "# Prompt template with a placeholder for the variable content\n",
    "PROMPT = f\"Tüm zamanların en iyi basketbol oyuncusu kimdir? Lütfen belirli bir oyuncu seç\"\n",
    "\n",
    "# Prefill for Gemini's response\n",
    "PREFILL = \"\"\n",
    "\n",
    "# Get Gemini's response\n",
    "response = get_completion(PROMPT, prefill=PREFILL)\n",
    "\n",
    "# Function to grade exercise correctness\n",
    "def grade_exercise(text):\n",
    "    return bool(re.search(\"Savaşçı\", text))\n",
    "\n",
    "# Print Gemini's response\n",
    "print(\"--------------------------- Full prompt with variable substutions ---------------------------\")\n",
    "print(\"USER TURN\")\n",
    "print(PROMPT)\n",
    "print(\"\\nASSISTANT TURN\")\n",
    "print(PREFILL)\n",
    "print(\"\\n------------------------------------- Gemini's response -------------------------------------\")\n",
    "print(response)\n",
    "print(\"\\n------------------------------------------ NOTLANDIRMA ------------------------------------------\")\n",
    "print(\"Bu alıştırma doğru bir şekilde çözülmüştür:\", grade_exercise(response))"
   ]
  },
  {
   "cell_type": "markdown",
   "metadata": {},
   "source": [
    "❓ Bir ipucu istiyorsanız, aşağıdaki hücreyi çalıştırın!"
   ]
  },
  {
   "cell_type": "code",
   "execution_count": null,
   "metadata": {},
   "outputs": [],
   "source": [
    "from hints import exercise_5_1_hint; print(exercise_5_1_hint)"
   ]
  },
  {
   "cell_type": "markdown",
   "metadata": {},
   "source": [
    "### Alıştırma 5.2 - İki Haiku\n",
    "Aşağıdaki `PROMPT`u XML etiketlerini kullanarak değiştirin, böylece Gemini hayvan hakkında bir yerine iki haiku yazacaktır. Bir şiirin nerede bittiği ve diğerinin nerede başladığı açık olmalıdır."
   ]
  },
  {
   "cell_type": "code",
   "execution_count": null,
   "metadata": {},
   "outputs": [],
   "source": [
    "# Variable content\n",
    "ANIMAL = \"kediler\"\n",
    "\n",
    "# Prompt template with a placeholder for the variable content\n",
    "PROMPT = f\"Lütfen {ANIMAL} hakkında bir haiku yazın. <haiku> etiketleri içine koy.\"\n",
    "\n",
    "# Prefill for Gemini's response\n",
    "PREFILL = \"<haiku>\"\n",
    "\n",
    "# Get Gemini's response\n",
    "response = get_completion(PROMPT, prefill=PREFILL)\n",
    "\n",
    "# Function to grade exercise correctness\n",
    "def grade_exercise(text):\n",
    "    return bool(\n",
    "        (re.search(\"kedi\", text.lower()) and re.search(\"<haiku>\", text))\n",
    "        and (text.count(\"\\n\") + 1) > 5\n",
    "    )\n",
    "\n",
    "# Print Gemini's response\n",
    "print(\"--------------------------- Full prompt with variable substutions ---------------------------\")\n",
    "print(\"USER TURN\")\n",
    "print(PROMPT)\n",
    "print(\"\\nASSISTANT TURN\")\n",
    "print(PREFILL)\n",
    "print(\"\\n------------------------------------- Gemini's response -------------------------------------\")\n",
    "print(response)\n",
    "print(\"\\n------------------------------------------ NOTLANDIRMA ------------------------------------------\")\n",
    "print(\"Bu alıştırma doğru bir şekilde çözülmüştür:\", grade_exercise(response))"
   ]
  },
  {
   "cell_type": "markdown",
   "metadata": {},
   "source": [
    "❓ Bir ipucu istiyorsanız, aşağıdaki hücreyi çalıştırın!"
   ]
  },
  {
   "cell_type": "code",
   "execution_count": null,
   "metadata": {},
   "outputs": [],
   "source": [
    "from hints import exercise_5_2_hint; print(exercise_5_2_hint)"
   ]
  },
  {
   "cell_type": "markdown",
   "metadata": {},
   "source": [
    "### Alıştırma 5.3 - İki Haiku, İki Hayvan\n",
    "Aşağıdaki `PROMPT`u **Gemini iki farklı hayvan hakkında iki haiku** üretecek şekilde değiştirin. İlk yerleştirme için `{ANIMAL1}` ve ikinci yerleştirme için `{ANIMAL2}` kullanın."
   ]
  },
  {
   "cell_type": "code",
   "execution_count": null,
   "metadata": {},
   "outputs": [],
   "source": [
    "# First input variable\n",
    "ANIMAL1 = \"Kedi\"\n",
    "\n",
    "# Second input variable\n",
    "ANIMAL2 = \"Köpek\"\n",
    "\n",
    "# Prompt template with a placeholder for the variable content\n",
    "PROMPT = f\"Lütfen {ANIMAL1} hakkında bir haiku yazın. <haiku> etiketleri içine koy.\"\n",
    "\n",
    "# Get Gemini's response\n",
    "response = get_completion(PROMPT)\n",
    "\n",
    "# Function to grade exercise correctness\n",
    "def grade_exercise(text):\n",
    "    return bool(re.search(\"kuyruk\", text.lower()) and re.search(\"kedi\", text.lower()) and re.search(\"<haiku>\", text))\n",
    "\n",
    "# Print Gemini's response\n",
    "print(\"--------------------------- Full prompt with variable substutions ---------------------------\")\n",
    "print(\"USER TURN\")\n",
    "print(PROMPT)\n",
    "print(\"\\n------------------------------------- Gemini's response -------------------------------------\")\n",
    "print(response)\n",
    "print(\"\\n------------------------------------------ NOTLANDIRMA ------------------------------------------\")\n",
    "print(\"Bu alıştırma doğru bir şekilde çözülmüştür:\", grade_exercise(response))"
   ]
  },
  {
   "cell_type": "markdown",
   "metadata": {},
   "source": [
    "❓ Bir ipucu istiyorsanız, aşağıdaki hücreyi çalıştırın!"
   ]
  },
  {
   "cell_type": "code",
   "execution_count": null,
   "metadata": {},
   "outputs": [],
   "source": [
    "from hints import exercise_5_3_hint; print(exercise_5_3_hint)"
   ]
  },
  {
   "cell_type": "markdown",
   "metadata": {},
   "source": [
    "### Tebrikler!\n",
    "\n",
    "Bu noktaya kadar tüm alıştırmaları çözdüyseniz, bir sonraki bölüme geçmeye hazırsınız demektir. İyi çalışmalar!"
   ]
  },
  {
   "cell_type": "markdown",
   "metadata": {},
   "source": [
    "---\n",
    "\n",
    "## Oyun Alanı\n",
    "\n",
    "Burası, bu derste gösterilen ipucu örneklerini özgürce deneyebileceğiniz ve Gemini'ın yanıtlarını nasıl etkileyebileceğini görmek için ipuçlarını değiştirebileceğiniz bir alandır."
   ]
  },
  {
   "cell_type": "code",
   "execution_count": null,
   "metadata": {},
   "outputs": [],
   "source": [
    "# Variable content\n",
    "ANIMAL = \"Rabbit\"\n",
    "\n",
    "# Prompt template with a placeholder for the variable content\n",
    "PROMPT = f\"Please write a haiku about {ANIMAL}. Put it in <haiku> tags.\"\n",
    "\n",
    "# Print Gemini's response\n",
    "print(\"--------------------------- Full prompt with variable substutions ---------------------------\")\n",
    "print(PROMPT)\n",
    "print(\"\\n------------------------------------- Gemini's response -------------------------------------\")\n",
    "print(get_completion(PROMPT))"
   ]
  },
  {
   "cell_type": "code",
   "execution_count": null,
   "metadata": {},
   "outputs": [],
   "source": [
    "# Variable content\n",
    "ANIMAL = \"Cat\"\n",
    "\n",
    "# Prompt template with a placeholder for the variable content\n",
    "PROMPT = f\"Please write a haiku about {ANIMAL}. Put it in <haiku> tags.\"\n",
    "\n",
    "# Prefill for Gemini's response\n",
    "PREFILL = \"<haiku>\"\n",
    "\n",
    "# Print Gemini's response\n",
    "print(\"--------------------------- Full prompt with variable substutions ---------------------------\")\n",
    "print(\"USER TURN:\")\n",
    "print(PROMPT)\n",
    "print(\"\\nASSISTANT TURN:\")\n",
    "print(PREFILL)\n",
    "print(\"\\n------------------------------------- Gemini's response -------------------------------------\")\n",
    "print(get_completion(PROMPT, prefill=PREFILL))"
   ]
  },
  {
   "cell_type": "code",
   "execution_count": null,
   "metadata": {},
   "outputs": [],
   "source": [
    "# Variable content\n",
    "ANIMAL = \"Cat\"\n",
    "\n",
    "# Prompt template with a placeholder for the variable content\n",
    "PROMPT = f\"Please write a haiku about {ANIMAL}. Use JSON format with the keys as \\\"first_line\\\", \\\"second_line\\\", and \\\"third_line\\\".\"\n",
    "\n",
    "# Prefill for Gemini's response\n",
    "PREFILL = \"{\"\n",
    "\n",
    "# Print Gemini's response\n",
    "print(\"--------------------------- Full prompt with variable substutions ---------------------------\")\n",
    "print(\"USER TURN\")\n",
    "print(PROMPT)\n",
    "print(\"\\nASSISTANT TURN\")\n",
    "print(PREFILL)\n",
    "print(\"\\n------------------------------------- Gemini's response -------------------------------------\")\n",
    "print(get_completion(PROMPT, prefill=PREFILL))"
   ]
  },
  {
   "cell_type": "code",
   "execution_count": null,
   "metadata": {},
   "outputs": [],
   "source": [
    "# First input variable\n",
    "EMAIL = \"Hi Zack, just pinging you for a quick update on that prompt you were supposed to write.\"\n",
    "\n",
    "# Second input variable\n",
    "ADJECTIVE = \"olde english\"\n",
    "\n",
    "# Prompt template with a placeholder for the variable content\n",
    "PROMPT = f\"Hey Gemini. Here is an email: <email>{EMAIL}</email>. Make this email more {ADJECTIVE}. Write the new version in <{ADJECTIVE}_email> XML tags.\"\n",
    "\n",
    "# Prefill for Gemini's response (now as an f-string with a variable)\n",
    "PREFILL = f\"<{ADJECTIVE}_email>\"\n",
    "\n",
    "# Print Gemini's response\n",
    "print(\"--------------------------- Full prompt with variable substutions ---------------------------\")\n",
    "print(\"USER TURN\")\n",
    "print(PROMPT)\n",
    "print(\"\\nASSISTANT TURN\")\n",
    "print(PREFILL)\n",
    "print(\"\\n------------------------------------- Gemini's response -------------------------------------\")\n",
    "print(get_completion(PROMPT, prefill=PREFILL))"
   ]
  }
 ],
 "metadata": {
  "kernelspec": {
   "display_name": "Python 3",
   "language": "python",
   "name": "python3"
  },
  "language_info": {
   "codemirror_mode": {
    "name": "ipython",
    "version": 3
   },
   "file_extension": ".py",
   "mimetype": "text/x-python",
   "name": "python",
   "nbconvert_exporter": "python",
   "pygments_lexer": "ipython3",
   "version": "3.10.11"
  }
 },
 "nbformat": 4,
 "nbformat_minor": 2
}
