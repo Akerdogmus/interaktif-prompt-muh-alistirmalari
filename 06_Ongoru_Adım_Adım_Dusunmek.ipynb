{
 "cells": [
  {
   "cell_type": "markdown",
   "metadata": {},
   "source": [
    "# Bölüm 6: Öngörü (Adım Adım Düşünme)\n",
    "\n",
    "- [Ders](#lesson)\n",
    "- [Alıştırmalar](#exercises)\n",
    "- [Oyun Alanı](#example-playground)\n",
    "\n",
    "## Kurulum\n",
    "\n",
    "API anahtarınızı yüklemek ve `get_completion` yardımcı işlevini oluşturmak için aşağıdaki kurulum hücresini çalıştırın."
   ]
  },
  {
   "cell_type": "code",
   "execution_count": 1,
   "metadata": {},
   "outputs": [
    {
     "name": "stdout",
     "output_type": "stream",
     "text": [
      "Note: you may need to restart the kernel to use updated packages.\n"
     ]
    }
   ],
   "source": [
    "# Bu satırı sadece bir kere çalıştırmanız gerekiyor\n",
    "%pip install -q -U google-generativeai "
   ]
  },
  {
   "cell_type": "code",
   "execution_count": 2,
   "metadata": {},
   "outputs": [
    {
     "name": "stderr",
     "output_type": "stream",
     "text": [
      "C:\\Users\\AKE\\AppData\\Local\\Packages\\PythonSoftwareFoundation.Python.3.10_qbz5n2kfra8p0\\LocalCache\\local-packages\\Python310\\site-packages\\tqdm\\auto.py:21: TqdmWarning: IProgress not found. Please update jupyter and ipywidgets. See https://ipywidgets.readthedocs.io/en/stable/user_install.html\n",
      "  from .autonotebook import tqdm as notebook_tqdm\n"
     ]
    }
   ],
   "source": [
    "# Import python's built-in regular expression library\n",
    "import re\n",
    "import google.generativeai as genai\n",
    "from google.generativeai.types import HarmCategory, HarmBlockThreshold\n",
    "\n",
    "genai.configure(api_key=\"your-api-key\")\n",
    "\n",
    "# Create the model\n",
    "generation_config = {\n",
    "  \"temperature\": 0,\n",
    "  \"top_p\": 1,\n",
    "  \"top_k\": 1,\n",
    "  \"max_output_tokens\": 8192,\n",
    "  \"response_mime_type\": \"text/plain\",\n",
    "}\n",
    "\n",
    "def get_completion(chat, system_prompt=\"NONE\", prefill=\"NONE\"):\n",
    "  asistant = genai.GenerativeModel(\n",
    "    model_name=\"gemini-1.5-pro\",\n",
    "    generation_config=generation_config,\n",
    "    safety_settings={\n",
    "          HarmCategory.HARM_CATEGORY_HATE_SPEECH: HarmBlockThreshold.BLOCK_NONE,\n",
    "          HarmCategory.HARM_CATEGORY_HARASSMENT: HarmBlockThreshold.BLOCK_NONE,\n",
    "          HarmCategory.HARM_CATEGORY_SEXUALLY_EXPLICIT: HarmBlockThreshold.BLOCK_NONE,\n",
    "          HarmCategory.HARM_CATEGORY_DANGEROUS_CONTENT: HarmBlockThreshold.BLOCK_NONE\n",
    "    },\n",
    "    system_instruction= system_prompt,\n",
    "  )\n",
    "\n",
    "  chat_session = asistant.start_chat(\n",
    "    history=[\n",
    "      {\n",
    "        \"role\": \"user\",\n",
    "        \"parts\": [chat],\n",
    "      },\n",
    "      {\n",
    "        \"role\": \"model\",\n",
    "        \"parts\": [prefill],\n",
    "      },\n",
    "    ]\n",
    "  )\n",
    "  response = chat_session.send_message(chat)\n",
    "  return response.text"
   ]
  },
  {
   "cell_type": "markdown",
   "metadata": {},
   "source": [
    "---\n",
    "\n",
    "## Ders\n",
    "\n",
    "Biri sizi aniden uyandırsa ve hemen yanıtlamanız gereken birkaç karmaşık soru sormaya başlasa, ne yapardınız? Muhtemelen vereceğiniz cevapları önce **düşünmeniz** için size zaman verildiği bir senaryodaki kadar iyi cevaplar veremezdiniz. \n",
    "\n",
    "Peki tahmin edin başka nerede bu durum geçerli? Tabi ki Gemini'da.\n",
    "\n",
    "**Gemini'a adım adım düşünmesi için zaman vermek bazen Gemini'ı daha doğru cevaplar vermesi için fırsat sağlar**, özellikle de karmaşık görevler ve soru-cevaplar için. Ancak, **düşünmek yalnızca yüksek sesle olduğunda anlamlıdır**. Gemini'dan düşünmesini isteyip sadece cevabı çıktılayamazsınız - bu durumda aslında düşünme gerçekleşmemiştir."
   ]
  },
  {
   "cell_type": "markdown",
   "metadata": {},
   "source": [
    "### Örnekler\n",
    "\n",
    "Aşağıdaki promptta, bir insan için ikinci cümlesi ile ilk cümleyi alakalı sandığı senaryo görülmektedir. Ancak bu senaryoda **Gemini “ilgisiz” sözcüğünü fazla abartıyor**."
   ]
  },
  {
   "cell_type": "code",
   "execution_count": 12,
   "metadata": {},
   "outputs": [
    {
     "name": "stdout",
     "output_type": "stream",
     "text": [
      "Film eleştirisi **olumlu**. \n",
      "\n",
      "\"Tazeliği ve özgünlüğüyle aklımı başımdan aldı\" ifadesi, eleştirmenin filmi oldukça beğendiğini ve etkilendiğini gösteriyor. \"1900 yılından beri bir kayanın altında yaşıyormuşum\" ifadesi ise, filmin kendisine yeni ve farklı bir şeyler sunduğunu, uzun zamandır böyle bir şey izlemediğini vurgulamak için kullandığı abartılı bir ifade. \n",
      "\n"
     ]
    }
   ],
   "source": [
    "# Prompt\n",
    "PROMPT = \"\"\"Bu film eleştirisi olumlu mu yoksa olumsuz mu?\n",
    "\n",
    "Bu film tazeliği ve özgünlüğüyle aklımı başımdan aldı. Tamamen ilgisiz bir haber olarak, ben 1900 yılından beri bir kayanın altında yaşıyormuşum.\"\"\"\n",
    "\n",
    "# Print Gemini's response\n",
    "print(get_completion(PROMPT))"
   ]
  },
  {
   "cell_type": "markdown",
   "metadata": {},
   "source": [
    "Gemini'ın yanıtını iyileştirmek için **Gemini'ın yanıt vermeden önce biraz daha düşünmesine izin verelim**. Bunu, Gemini'ın görevini işlemek ve düşünmek için atması gereken adımları tam anlamıyla açıklayarak yapıyoruz. Bir tutam rol ataması ile birlikte bu, Gemini'ın incelemeyi daha derinlemesine anlamasını sağlayacak."
   ]
  },
  {
   "cell_type": "code",
   "execution_count": 13,
   "metadata": {},
   "outputs": [
    {
     "name": "stdout",
     "output_type": "stream",
     "text": [
      "<positive_argument>Yazar, filmi \"taze\" ve \"özgün\" olarak nitelendirerek, filmin kendisini derinden etkilediğini belirten güçlü bir olumlu duygu (\"aklımı başımdan aldı\") ifade ediyor.</positive_argument>\n",
      "<negative_argument>Yazarın aşinalık eksikliğine dair yorumu, incelemenin öznel deneyimlerine odaklandığını ve filmin nesnel kalitesine dair çok az fikir verdiğini gösterebilir.</negative_argument>\n",
      "\n",
      "Genel olarak, bu inceleme **olumlu** olarak kabul edilir. Aşinalık eksikliğine ilişkin yorum biraz belirsiz olsa da, incelemenin ezici tonu, yazarın filmi son derece yenilikçi ve etkileyici bulduğunu açıkça ortaya koymaktadır. \n",
      "\n"
     ]
    }
   ],
   "source": [
    "# System prompt\n",
    "SYSTEM_PROMPT = \"Film eleştirileri konusunda bilgili bir okuyucu olarak davran. Yorumlarını buna göre yap.\"\n",
    "\n",
    "# Prompt\n",
    "PROMPT = \"\"\"Bu değerlendirme olumlu mu yoksa olumsuz mudur? Önce her iki taraf için en iyi argümanları <pozitif-argüman> ve <negatif-argüman> XML etiketlerinde yazın, sonra cevaplayın.\n",
    "\n",
    "Bu film tazeliği ve özgünlüğü ile aklımı başımdan aldı. Tamamen alakasız bir haber, 1900'den beri bir kayanın altında yaşıyormuşum.\"\"\"\n",
    "\n",
    "# Print Gemini's response\n",
    "print(get_completion(PROMPT, SYSTEM_PROMPT))"
   ]
  },
  {
   "cell_type": "markdown",
   "metadata": {},
   "source": [
    "**Gemini bazen sıralamaya karşı da duyarlıdır**. Yapcağımız bu örnek, Gemini'ın nüanslı metinleri anlama becerisinin sınırındadır ve önceki örnekteki argümanların sırasını değiştirdiğimizde, negatif ilk ve pozitif ikinci olacak şekilde, bu Gemini'ın genel değerlendirmesini pozitif olarak değiştirir.\n",
    "\n",
    "Çoğu durumda (ama hepsinde değil, yeterince kafa karıştırıcı bir şekilde), **Gemini'ın iki seçenekten ikincisini seçme olasılığı daha yüksektir**, çünkü muhtemelen web'den aldığı eğitim verilerinde ikinci seçeneklerin doğru olma olasılığı daha yüksek olmuştur."
   ]
  },
  {
   "cell_type": "code",
   "execution_count": 15,
   "metadata": {},
   "outputs": [
    {
     "name": "stdout",
     "output_type": "stream",
     "text": [
      "<positive-argument>Değerlendirmen, filmin tazeliği ve özgünlüğü karşısında çok etkilendiğini açıkça belirterek güçlü bir olumlu duygu ifade ediyor. \"Aklımı uçurdu\" ifadesi, filmin yaratıcılığına dair coşkulu bir övgüdür.</positive-argument>\n",
      "<negative-argument>1900'den beri bir kayanın altında yaşadığını belirten ikinci cümle, yorumcunun modern filmler ve neyin \"taze\" veya \"özgün\" olarak kabul edilebileceği konusundaki anlayışını sorguluyor. Bu, övgülerinin samimiyetine dair bir ironi veya şüphe unsuru katıyor.</negative-argument>\n",
      "\n",
      "Genel olarak, değerlendirme **olumlu** olarak kabul edilir. Güçlü olumlu duyguya rağmen, yorumcunun sinematik deneyim eksikliğine dair ironik yorumu göz ardı edilemez. \n",
      "\n"
     ]
    }
   ],
   "source": [
    "# Prompt\n",
    "PROMPT = \"\"\"Bu değerlendirme olumsuz mu yoksa olumlu mudur? Önce her iki taraf için en iyi argümanları <positive-argument> ve <negative-argument> XML etiketlerinde yaz, sonra cevapla.\n",
    "\n",
    "Bu film tazeliği ve özgünlüğü ile aklımı başımdan aldı. Tamamen alakasız bir haber, 1900'den beri bir kayanın altında yaşıyormuşum.\"\"\"\n",
    "\n",
    "# Print Gemini's response\n",
    "print(get_completion(PROMPT))"
   ]
  },
  {
   "cell_type": "markdown",
   "metadata": {},
   "source": [
    "**Gemini'ın düşünmesine izin vermek, Gemini'ın cevabını yanlıştan doğruya çevirebilir**. Gemini'ın hata yaptığı birçok durumda bunu düzeltmek bu kadar kadar basit!\n",
    "\n",
    "Gemini'dan düşünmesini istemenin bunu nasıl düzeltebileceğini görmek için Gemini'ın cevabının yanlış olduğu bir örnek üzerinden gidelim."
   ]
  },
  {
   "cell_type": "code",
   "execution_count": 18,
   "metadata": {},
   "outputs": [
    {
     "name": "stdout",
     "output_type": "stream",
     "text": [
      "1956 doğumlu bir aktörün başrol oynadığı ünlü bir film **Top Gun**'dır (1986), başrolünde **Tom Cruise** oynuyor. \n",
      "\n"
     ]
    }
   ],
   "source": [
    "# Prompt\n",
    "PROMPT = \"Başrolünde 1956 yılında doğmuş bir aktörün oynadığı ünlü bir film söyle.\"\n",
    "\n",
    "# Print Gemini's response\n",
    "print(get_completion(PROMPT))"
   ]
  },
  {
   "cell_type": "markdown",
   "metadata": {},
   "source": [
    "Tom Cruise 1962 doğumlu bir aktördür (Not: tekrar çalıştırıldığında farklı cevaplar verebilir ancak yüksek ihtimalle yanlış verecektir). Gemini'dan bu kez `<brainstorm>` etiketleri içinde adım adım düşünmesini isteyerek yaptığı bu hatayı düzeltelim."
   ]
  },
  {
   "cell_type": "code",
   "execution_count": 19,
   "metadata": {},
   "outputs": [
    {
     "name": "stdout",
     "output_type": "stream",
     "text": [
      "<brainstorm>\n",
      "* **Tom Hanks** (1956 doğumlu)\n",
      "* **John Travolta** (1954 doğumlu)\n",
      "* **Mel Gibson** (1956 doğumlu)\n",
      "* **Bruce Willis** (1955 doğumlu)\n",
      "</brainstorm>\n",
      "\n",
      "Başrolünde 1956 yılında doğmuş bir aktörün oynadığı ünlü bir film **Cesur Yürek**'tir. Mel Gibson hem yönetmenliğini hem de başrolünü üstlendiği filmde rol almıştır. \n",
      "\n"
     ]
    }
   ],
   "source": [
    "# Prompt\n",
    "PROMPT = \"Başrolünde 1956 yılında doğmuş bir aktörün oynadığı ünlü bir film söyle. Önce <brainstorm> etiketleri içinde bazı aktörler ve doğum yılları hakkında beyin fırtınası yap, ardından cevabını ver.\"\n",
    "\n",
    "# Print Gemini's response\n",
    "print(get_completion(PROMPT))"
   ]
  },
  {
   "cell_type": "markdown",
   "metadata": {},
   "source": [
    "---\n",
    "\n",
    "## Alıştırmalar\n",
    "- [Alıştırma 6.1 - Email Sınıflandırma](#exercise-61---classifying-emails)\n",
    "- [Alıştırma 6.2 - Email Sınıflandırma Formatı](#exercise-62---email-classification-formatting)"
   ]
  },
  {
   "cell_type": "markdown",
   "metadata": {},
   "source": [
    "### Alıştırma 6.1 - Email Sınıflandırma\n",
    "Bu alıştırmada, Gemini'a e-postaları aşağıdaki kategorilere ayırması talimatını vereceğiz:\t\t\t\t\t\t\t\t\t\t\n",
    "- (A) Satış öncesi soru\n",
    "- (B) Kırık veya kusurlu ürün\n",
    "- (C) Faturalama sorusu\n",
    "- (D) Diğer (lütfen açıklayınız)\n",
    "\n",
    "Alıştırmanın ilk bölümü için `PROMPT` ifadesini **Gemini'ın doğru sınıflandırmayı ve SADECE sınıflandırmayı çıktılaması** şeklinde değiştirin. Cevabınız **doğru seçeneğin harfini (A - D) parantez içinde ve kategori adıyla birlikte içermelidir**.\n",
    "\n",
    "E-postanın hangi kategori altında sınıflandırılması gerektiğini öğrenmek için `EMAILS` listesindeki her e-postanın yanındaki yorumlara bakın."
   ]
  },
  {
   "cell_type": "code",
   "execution_count": null,
   "metadata": {},
   "outputs": [],
   "source": [
    "# Prompt template with a placeholder for the variable content\n",
    "PROMPT = \"\"\"Lütfen bu e-postayı yeşil ya da mavi olarak sınıflandırın: {email}\"\"\"\n",
    "\n",
    "# Prefill for Gemini's response, if any\n",
    "PREFILL = \"\"\n",
    "\n",
    "# Variable content stored as a list\n",
    "EMAILS = [\n",
    "    \"Hi -- My Mixmaster4000 is producing a strange noise when I operate it. It also smells a bit smoky and plasticky, like burning electronics.  I need a replacement.\", # (B) Broken or defective item\n",
    "    \"Can I use my Mixmaster 4000 to mix paint, or is it only meant for mixing food?\", # (A) Pre-sale question OR (D) Other (please explain)\n",
    "    \"I HAVE BEEN WAITING 4 MONTHS FOR MY MONTHLY CHARGES TO END AFTER CANCELLING!!  WTF IS GOING ON???\", # (C) Billing question\n",
    "    \"How did I get here I am not good with computer.  Halp.\" # (D) Other (please explain)\n",
    "]\n",
    "\n",
    "# Correct categorizations stored as a list of lists to accommodate the possibility of multiple correct categorizations per email\n",
    "ANSWERS = [\n",
    "    [\"B\"],\n",
    "    [\"A\",\"D\"],\n",
    "    [\"C\"],\n",
    "    [\"D\"]\n",
    "]\n",
    "\n",
    "# Dictionary of string values for each category to be used for regex grading\n",
    "REGEX_CATEGORIES = {\n",
    "    \"A\": \"A\\) P\",\n",
    "    \"B\": \"B\\) B\",\n",
    "    \"C\": \"C\\) B\",\n",
    "    \"D\": \"D\\) O\"\n",
    "}\n",
    "\n",
    "# Iterate through list of emails\n",
    "for i,email in enumerate(EMAILS):\n",
    "    \n",
    "    # Substitute the email text into the email placeholder variable\n",
    "    formatted_prompt = PROMPT.format(email=email)\n",
    "   \n",
    "    # Get Gemini's response\n",
    "    response = get_completion(formatted_prompt, prefill=PREFILL)\n",
    "\n",
    "    # Grade Gemini's response\n",
    "    grade = any([bool(re.search(REGEX_CATEGORIES[ans], response)) for ans in ANSWERS[i]])\n",
    "    \n",
    "    # Print Gemini's response\n",
    "    print(\"--------------------------- Full prompt with variable substutions ---------------------------\")\n",
    "    print(\"USER TURN\")\n",
    "    print(formatted_prompt)\n",
    "    print(\"\\nASSISTANT TURN\")\n",
    "    print(PREFILL)\n",
    "    print(\"\\n------------------------------------- Gemini's response -------------------------------------\")\n",
    "    print(response)\n",
    "    print(\"\\n------------------------------------------ NOTLANDIRMA ------------------------------------------\")\n",
    "    print(\"Bu alıştırma doğru bir şekilde çözülmüştür:\", grade, \"\\n\\n\\n\\n\\n\\n\")"
   ]
  },
  {
   "cell_type": "markdown",
   "metadata": {},
   "source": [
    "❓ Bir ipucu istiyorsanız, aşağıdaki hücreyi çalıştırın!"
   ]
  },
  {
   "cell_type": "code",
   "execution_count": null,
   "metadata": {},
   "outputs": [],
   "source": [
    "from hints import exercise_6_1_hint; print(exercise_6_1_hint)"
   ]
  },
  {
   "cell_type": "markdown",
   "metadata": {},
   "source": [
    "Hala takıldınız mı? Örnek bir çözüm için aşağıdaki hücreyi çalıştırın.\t\t\t\t\t\t"
   ]
  },
  {
   "cell_type": "code",
   "execution_count": null,
   "metadata": {},
   "outputs": [],
   "source": [
    "from hints import exercise_6_1_solution; print(exercise_6_1_solution)"
   ]
  },
  {
   "cell_type": "markdown",
   "metadata": {},
   "source": [
    "### Alıştırma 6.2 - Email Sınıflandırma Formatı\n",
    "Bu alıştırmada, tam olarak istediğimiz şekilde biçimlendirilmiş bir yanıt elde etmek için yukarıdaki komut isteminin çıktısını iyileştireceğiz. \n",
    "\n",
    "Gemini'ın doğru sınıflandırmanın harfini `<answer><answer>` etiketleri içine SADECE sarmasını sağlamak için en sevdiğiniz çıktı biçimlendirme tekniğini kullanın. Örneğin, ilk e-postanın cevabı tam olarak `<answer>B<answer>` dizesini içermelidir.\n",
    "\n",
    "Her e-posta için hangi harf kategorisinin doğru olduğunu unutursanız, `EMAILS` listesindeki her e-postanın yanındaki yorumlara bakın."
   ]
  },
  {
   "cell_type": "code",
   "execution_count": null,
   "metadata": {},
   "outputs": [],
   "source": [
    "# Prompt template with a placeholder for the variable content\n",
    "PROMPT = \"\"\"Lütfen bu e-postayı yeşil ya da mavi olarak sınıflandırın: {email}\"\"\"\n",
    "\n",
    "# Prefill for Gemini's response, if any\n",
    "PREFILL = \"\"\n",
    "\n",
    "# Variable content stored as a list\n",
    "EMAILS = [\n",
    "    \"Hi -- My Mixmaster4000 is producing a strange noise when I operate it. It also smells a bit smoky and plasticky, like burning electronics.  I need a replacement.\", # (B) Broken or defective item\n",
    "    \"Can I use my Mixmaster 4000 to mix paint, or is it only meant for mixing food?\", # (A) Pre-sale question OR (D) Other (please explain)\n",
    "    \"I HAVE BEEN WAITING 4 MONTHS FOR MY MONTHLY CHARGES TO END AFTER CANCELLING!!  WTF IS GOING ON???\", # (C) Billing question\n",
    "    \"How did I get here I am not good with computer.  Halp.\" # (D) Other (please explain)\n",
    "]\n",
    "\n",
    "# Correct categorizations stored as a list of lists to accommodate the possibility of multiple correct categorizations per email\n",
    "ANSWERS = [\n",
    "    [\"B\"],\n",
    "    [\"A\",\"D\"],\n",
    "    [\"C\"],\n",
    "    [\"D\"]\n",
    "]\n",
    "\n",
    "# Dictionary of string values for each category to be used for regex grading\n",
    "REGEX_CATEGORIES = {\n",
    "    \"A\": \"<answer>A</answer>\",\n",
    "    \"B\": \"<answer>B</answer>\",\n",
    "    \"C\": \"<answer>C</answer>\",\n",
    "    \"D\": \"<answer>D</answer>\"\n",
    "}\n",
    "\n",
    "# Iterate through list of emails\n",
    "for i,email in enumerate(EMAILS):\n",
    "    \n",
    "    # Substitute the email text into the email placeholder variable\n",
    "    formatted_prompt = PROMPT.format(email=email)\n",
    "   \n",
    "    # Get Gemini's response\n",
    "    response = get_completion(formatted_prompt, prefill=PREFILL)\n",
    "\n",
    "    # Grade Gemini's response\n",
    "    grade = any([bool(re.search(REGEX_CATEGORIES[ans], response)) for ans in ANSWERS[i]])\n",
    "    \n",
    "    # Print Gemini's response\n",
    "    print(\"--------------------------- Full prompt with variable substutions ---------------------------\")\n",
    "    print(\"USER TURN\")\n",
    "    print(formatted_prompt)\n",
    "    print(\"\\nASSISTANT TURN\")\n",
    "    print(PREFILL)\n",
    "    print(\"\\n------------------------------------- Gemini's response -------------------------------------\")\n",
    "    print(response)\n",
    "    print(\"\\n------------------------------------------ NOTLANDIRMA ------------------------------------------\")\n",
    "    print(\"Bu alıştırma doğru bir şekilde çözülmüştür:\", grade, \"\\n\\n\\n\\n\\n\\n\")"
   ]
  },
  {
   "cell_type": "markdown",
   "metadata": {},
   "source": [
    "❓ Bir ipucu istiyorsanız, aşağıdaki hücreyi çalıştırın!"
   ]
  },
  {
   "cell_type": "code",
   "execution_count": null,
   "metadata": {},
   "outputs": [],
   "source": [
    "from hints import exercise_6_2_hint; print(exercise_6_2_hint)"
   ]
  },
  {
   "cell_type": "markdown",
   "metadata": {},
   "source": [
    "### Tebrikler!\n",
    "\n",
    "Bu noktaya kadar tüm alıştırmaları çözdüyseniz, bir sonraki bölüme geçmeye hazırsınız demektir. İyi çalışmalar!"
   ]
  },
  {
   "cell_type": "markdown",
   "metadata": {},
   "source": [
    "---\n",
    "\n",
    "## Oyun Alanı\n",
    "\n",
    "Burası, bu derste gösterilen ipucu örneklerini özgürce deneyebileceğiniz ve Gemini'ın yanıtlarını nasıl etkileyebileceğini görmek için ipuçlarını değiştirebileceğiniz bir alandır."
   ]
  },
  {
   "cell_type": "code",
   "execution_count": null,
   "metadata": {},
   "outputs": [],
   "source": [
    "# Prompt\n",
    "PROMPT = \"\"\"Is this movie review sentiment positive or negative?\n",
    "\n",
    "This movie blew my mind with its freshness and originality. In totally unrelated news, I have been living under a rock since the year 1900.\"\"\"\n",
    "\n",
    "# Print Gemini's response\n",
    "print(get_completion(PROMPT))"
   ]
  },
  {
   "cell_type": "code",
   "execution_count": null,
   "metadata": {},
   "outputs": [],
   "source": [
    "# System prompt\n",
    "SYSTEM_PROMPT = \"You are a savvy reader of movie reviews.\"\n",
    "\n",
    "# Prompt\n",
    "PROMPT = \"\"\"Is this review sentiment positive or negative? First, write the best arguments for each side in <positive-argument> and <negative-argument> XML tags, then answer.\n",
    "\n",
    "This movie blew my mind with its freshness and originality. In totally unrelated news, I have been living under a rock since 1900.\"\"\"\n",
    "\n",
    "# Print Gemini's response\n",
    "print(get_completion(PROMPT, SYSTEM_PROMPT))"
   ]
  },
  {
   "cell_type": "code",
   "execution_count": null,
   "metadata": {},
   "outputs": [],
   "source": [
    "# Prompt\n",
    "PROMPT = \"\"\"Is this review sentiment negative or positive? First write the best arguments for each side in <negative-argument> and <positive-argument> XML tags, then answer.\n",
    "\n",
    "This movie blew my mind with its freshness and originality. Unrelatedly, I have been living under a rock since 1900.\"\"\"\n",
    "\n",
    "# Print Gemini's response\n",
    "print(get_completion(PROMPT))"
   ]
  },
  {
   "cell_type": "code",
   "execution_count": null,
   "metadata": {},
   "outputs": [],
   "source": [
    "# Prompt\n",
    "PROMPT = \"Name a famous movie starring an actor who was born in the year 1956.\"\n",
    "\n",
    "# Print Gemini's response\n",
    "print(get_completion(PROMPT))"
   ]
  },
  {
   "cell_type": "code",
   "execution_count": null,
   "metadata": {},
   "outputs": [],
   "source": [
    "# Prompt\n",
    "PROMPT = \"Name a famous movie starring an actor who was born in the year 1956. First brainstorm about some actors and their birth years in <brainstorm> tags, then give your answer.\"\n",
    "\n",
    "# Print Gemini's response\n",
    "print(get_completion(PROMPT))"
   ]
  }
 ],
 "metadata": {
  "kernelspec": {
   "display_name": "Python 3",
   "language": "python",
   "name": "python3"
  },
  "language_info": {
   "codemirror_mode": {
    "name": "ipython",
    "version": 3
   },
   "file_extension": ".py",
   "mimetype": "text/x-python",
   "name": "python",
   "nbconvert_exporter": "python",
   "pygments_lexer": "ipython3",
   "version": "3.10.11"
  }
 },
 "nbformat": 4,
 "nbformat_minor": 2
}
